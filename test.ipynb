{
  "nbformat": 4,
  "nbformat_minor": 0,
  "metadata": {
    "colab": {
      "provenance": []
    },
    "kernelspec": {
      "name": "python3",
      "display_name": "Python 3"
    },
    "language_info": {
      "name": "python"
    }
  },
  "cells": [
    {
      "cell_type": "code",
      "source": [
        "import numpy as np  # to make numpy array\n",
        "import pandas as pd  # to create data frames\n",
        "from sklearn.preprocessing import StandardScaler  # to standardize the data\n",
        "from sklearn.model_selection import train_test_split  # to split the data into training data and testing data\n",
        "# from sklearn import svm  # standard vector machine\n",
        "from sklearn.ensemble import RandomForestClassifier\n",
        "from sklearn.metrics import accuracy_score"
      ],
      "metadata": {
        "id": "vgEIGa3obKFX"
      },
      "execution_count": 1,
      "outputs": []
    },
    {
      "cell_type": "code",
      "execution_count": 4,
      "metadata": {
        "colab": {
          "base_uri": "https://localhost:8080/",
          "height": 74
        },
        "id": "V3fq9j81bHAw",
        "outputId": "b3f18870-d2d3-40b2-dd46-22a2a3f2ed07"
      },
      "outputs": [
        {
          "output_type": "execute_result",
          "data": {
            "text/plain": [
              "RandomForestClassifier(max_depth=4)"
            ],
            "text/html": [
              "<style>#sk-container-id-1 {color: black;background-color: white;}#sk-container-id-1 pre{padding: 0;}#sk-container-id-1 div.sk-toggleable {background-color: white;}#sk-container-id-1 label.sk-toggleable__label {cursor: pointer;display: block;width: 100%;margin-bottom: 0;padding: 0.3em;box-sizing: border-box;text-align: center;}#sk-container-id-1 label.sk-toggleable__label-arrow:before {content: \"▸\";float: left;margin-right: 0.25em;color: #696969;}#sk-container-id-1 label.sk-toggleable__label-arrow:hover:before {color: black;}#sk-container-id-1 div.sk-estimator:hover label.sk-toggleable__label-arrow:before {color: black;}#sk-container-id-1 div.sk-toggleable__content {max-height: 0;max-width: 0;overflow: hidden;text-align: left;background-color: #f0f8ff;}#sk-container-id-1 div.sk-toggleable__content pre {margin: 0.2em;color: black;border-radius: 0.25em;background-color: #f0f8ff;}#sk-container-id-1 input.sk-toggleable__control:checked~div.sk-toggleable__content {max-height: 200px;max-width: 100%;overflow: auto;}#sk-container-id-1 input.sk-toggleable__control:checked~label.sk-toggleable__label-arrow:before {content: \"▾\";}#sk-container-id-1 div.sk-estimator input.sk-toggleable__control:checked~label.sk-toggleable__label {background-color: #d4ebff;}#sk-container-id-1 div.sk-label input.sk-toggleable__control:checked~label.sk-toggleable__label {background-color: #d4ebff;}#sk-container-id-1 input.sk-hidden--visually {border: 0;clip: rect(1px 1px 1px 1px);clip: rect(1px, 1px, 1px, 1px);height: 1px;margin: -1px;overflow: hidden;padding: 0;position: absolute;width: 1px;}#sk-container-id-1 div.sk-estimator {font-family: monospace;background-color: #f0f8ff;border: 1px dotted black;border-radius: 0.25em;box-sizing: border-box;margin-bottom: 0.5em;}#sk-container-id-1 div.sk-estimator:hover {background-color: #d4ebff;}#sk-container-id-1 div.sk-parallel-item::after {content: \"\";width: 100%;border-bottom: 1px solid gray;flex-grow: 1;}#sk-container-id-1 div.sk-label:hover label.sk-toggleable__label {background-color: #d4ebff;}#sk-container-id-1 div.sk-serial::before {content: \"\";position: absolute;border-left: 1px solid gray;box-sizing: border-box;top: 0;bottom: 0;left: 50%;z-index: 0;}#sk-container-id-1 div.sk-serial {display: flex;flex-direction: column;align-items: center;background-color: white;padding-right: 0.2em;padding-left: 0.2em;position: relative;}#sk-container-id-1 div.sk-item {position: relative;z-index: 1;}#sk-container-id-1 div.sk-parallel {display: flex;align-items: stretch;justify-content: center;background-color: white;position: relative;}#sk-container-id-1 div.sk-item::before, #sk-container-id-1 div.sk-parallel-item::before {content: \"\";position: absolute;border-left: 1px solid gray;box-sizing: border-box;top: 0;bottom: 0;left: 50%;z-index: -1;}#sk-container-id-1 div.sk-parallel-item {display: flex;flex-direction: column;z-index: 1;position: relative;background-color: white;}#sk-container-id-1 div.sk-parallel-item:first-child::after {align-self: flex-end;width: 50%;}#sk-container-id-1 div.sk-parallel-item:last-child::after {align-self: flex-start;width: 50%;}#sk-container-id-1 div.sk-parallel-item:only-child::after {width: 0;}#sk-container-id-1 div.sk-dashed-wrapped {border: 1px dashed gray;margin: 0 0.4em 0.5em 0.4em;box-sizing: border-box;padding-bottom: 0.4em;background-color: white;}#sk-container-id-1 div.sk-label label {font-family: monospace;font-weight: bold;display: inline-block;line-height: 1.2em;}#sk-container-id-1 div.sk-label-container {text-align: center;}#sk-container-id-1 div.sk-container {/* jupyter's `normalize.less` sets `[hidden] { display: none; }` but bootstrap.min.css set `[hidden] { display: none !important; }` so we also need the `!important` here to be able to override the default hidden behavior on the sphinx rendered scikit-learn.org. See: https://github.com/scikit-learn/scikit-learn/issues/21755 */display: inline-block !important;position: relative;}#sk-container-id-1 div.sk-text-repr-fallback {display: none;}</style><div id=\"sk-container-id-1\" class=\"sk-top-container\"><div class=\"sk-text-repr-fallback\"><pre>RandomForestClassifier(max_depth=4)</pre><b>In a Jupyter environment, please rerun this cell to show the HTML representation or trust the notebook. <br />On GitHub, the HTML representation is unable to render, please try loading this page with nbviewer.org.</b></div><div class=\"sk-container\" hidden><div class=\"sk-item\"><div class=\"sk-estimator sk-toggleable\"><input class=\"sk-toggleable__control sk-hidden--visually\" id=\"sk-estimator-id-1\" type=\"checkbox\" checked><label for=\"sk-estimator-id-1\" class=\"sk-toggleable__label sk-toggleable__label-arrow\">RandomForestClassifier</label><div class=\"sk-toggleable__content\"><pre>RandomForestClassifier(max_depth=4)</pre></div></div></div></div></div>"
            ]
          },
          "metadata": {},
          "execution_count": 4
        }
      ],
      "source": [
        "# loading the datasets as a pandas DataFrame\n",
        "diabetes_dataset = pd.read_csv('https://raw.githubusercontent.com/tfortamal/pychunk/main/Diabetes%20Prediction/diabetes.csv')\n",
        "# diabetes_dataset = pd.read_csv('/kaggle/input/pima-indians-diabetes-database/diabetes.csv)\n",
        "# printing the first five rows of the dataset\n",
        "# print(diabetes_dataset.head(5))\n",
        "\n",
        "# number of rows and columns in the dataset\n",
        "# print(diabetes_dataset.shape)\n",
        "\n",
        "# getting the statistical mesures of the data\n",
        "# print(diabetes_dataset.describe())\n",
        "\n",
        "# checking the outcome of the datasets\n",
        "# print(diabetes_dataset['Outcome'].value_counts())\n",
        "\n",
        "# grouping the data\n",
        "# print(diabetes_dataset.groupby('Outcome').mean())\n",
        "\n",
        "# separating the data and labels\n",
        "X = diabetes_dataset.drop(columns='Outcome', axis=1)\n",
        "results = diabetes_dataset['Outcome']\n",
        "# print(X)\n",
        "# print(results)\n",
        "\n",
        "# Data Standardization\n",
        "scaler = StandardScaler()\n",
        "standardized_data = scaler.fit_transform(X.values)  # Here x.values will have only values without headers\n",
        "# print(\"\\n Printing standardized data \\n\")\n",
        "# print(standardized_data)\n",
        "\n",
        "# splitting the datasets into training data and labeled data\n",
        "standardized_training_data, standardized_test_data, training_results, testing_results = train_test_split(standardized_data, results, test_size=0.2, stratify=results, random_state=2)\n",
        "# print(\"\\n \\n printing the normal data, standardized data and the training data\\n\")\n",
        "# print('the standardized data: ', standardized_data.shape)\n",
        "# print('the standardized training data: ', standardized_training_data.shape)\n",
        "# print('the standardized training data: ', standardized_test_data.shape)\n",
        "\n",
        "# Training the model\n",
        "# classifier = svm.SVC(kernel='linear')  # using support verto machine classifier and the model is linear\n",
        "classifier = RandomForestClassifier(criterion='gini', max_depth=4, min_samples_leaf=1, min_samples_split=2)  # using random forest classifier\n",
        "# feeding training data into the model\n",
        "classifier.fit(standardized_training_data, training_results)\n",
        "\n"
      ]
    },
    {
      "cell_type": "code",
      "source": [
        "\n",
        "# evaluating the trained model\n",
        "# finding the accuracy score on the training data\n",
        "training_prediction = classifier.predict(\n",
        "    standardized_training_data)  # storing the prediction in the training_prediction variable\n",
        "training_accuracy = accuracy_score(training_prediction, training_results)\n",
        "print(\"\\n\\n\\nThe accuracy score of training is: \", training_accuracy)\n",
        "# finding hte accuracy score on the testing data\n",
        "test_prediction = classifier.predict(\n",
        "    standardized_test_data)  # storing the prediction in the training_prediction variable\n",
        "test_accuracy = accuracy_score(test_prediction, testing_results)\n",
        "print(\"The accuracy score of testing is: \", test_accuracy)\n"
      ],
      "metadata": {
        "colab": {
          "base_uri": "https://localhost:8080/"
        },
        "id": "iEStO8gwcaY8",
        "outputId": "f0226166-8606-464a-8d76-448645bb147a"
      },
      "execution_count": 5,
      "outputs": [
        {
          "output_type": "stream",
          "name": "stdout",
          "text": [
            "\n",
            "\n",
            "\n",
            "The accuracy score of training is:  0.8355048859934854\n",
            "The accuracy score of testing is:  0.7597402597402597\n"
          ]
        }
      ]
    },
    {
      "cell_type": "code",
      "source": [
        "# making a predictive system\n",
        "# this is where we are going to input the medical information\n",
        "raw_data = input('Enter the Raw data in order: ')\n",
        "input_data = raw_data.split(\",\")\n",
        "# changing the input data to numpy array\n",
        "# print(type(input_data))\n",
        "input_data_as_numpy_array = np.asarray(input_data)\n",
        "# reshape the array\n",
        "reshaped_input_data = input_data_as_numpy_array.reshape(1, -1)\n",
        "# standardizing the input data\n",
        "standardized_input_dara = scaler.transform(reshaped_input_data)\n",
        "#  print(\"\\n\\n the standardized input data is: \", standardized_input_dara)"
      ],
      "metadata": {
        "id": "KV7JU8Dpce0A"
      },
      "execution_count": null,
      "outputs": []
    },
    {
      "cell_type": "code",
      "source": [
        "# loading the standardized input data intp the trained model\n",
        "prediction = classifier.predict(standardized_input_dara)\n",
        "print('\\n\\n\\nInput data in order: ', input_data)\n",
        "print(\"making a prediction on the input data: \")\n",
        "if prediction[0] == 0:\n",
        "    print('The patient is no-diabetic. output: ', prediction)\n",
        "else:\n",
        "    print('The patient is diabetic. output: ', prediction)"
      ],
      "metadata": {
        "id": "m0E8RU43b6db"
      },
      "execution_count": null,
      "outputs": []
    }
  ]
}